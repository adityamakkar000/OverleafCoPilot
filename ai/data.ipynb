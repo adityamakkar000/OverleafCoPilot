{
 "cells": [
  {
   "cell_type": "code",
   "execution_count": 27,
   "metadata": {},
   "outputs": [],
   "source": [
    "import datasets as d\n",
    "import random as r\n",
    "import csv\n",
    "\n",
    "instruction = \"You are a latex autocomplete model. You will be given a setence from a proof and you need to finish the sentence. Give back the setence in latex markup.\"\n",
    "path = './dataset/latex.txt'\n",
    "\n",
    "with open(path, 'r') as file:\n",
    "    data = file.read()\n",
    "\n",
    "\n",
    "data = data.split('.')\n",
    "data = [x.strip('\\n\\\\n').replace('\\n', ' ').replace('  ', ' ') for x in data]"
   ]
  },
  {
   "cell_type": "code",
   "execution_count": 31,
   "metadata": {},
   "outputs": [],
   "source": [
    "dataset = []\n",
    "cutoff = 6\n",
    "lb = 0.42\n",
    "up = 0.66\n",
    "for i in range(len(data)):\n",
    "  length = len(data[i])\n",
    "  if length < 7:\n",
    "    continue\n",
    "  index = r.randint(int(lb * length), int(up * length))\n",
    "  dataset.append({\n",
    "    'instruction': instruction,\n",
    "    'input': data[i][:index],\n",
    "    'output': data[i][index:]\n",
    "  })\n"
   ]
  },
  {
   "cell_type": "code",
   "execution_count": 32,
   "metadata": {},
   "outputs": [],
   "source": [
    "with open('./dataset/latex.csv', mode='w') as file:\n",
    "  writer = csv.DictWriter(file, fieldnames=['instruction', 'input', 'output'])\n",
    "  writer.writeheader()\n",
    "  writer.writerows(dataset)"
   ]
  },
  {
   "cell_type": "code",
   "execution_count": 33,
   "metadata": {},
   "outputs": [
    {
     "name": "stderr",
     "output_type": "stream",
     "text": [
      "Generating train split: 0 examples [00:00, ? examples/s]/Users/adityamakkar/Desktop/CS/overleafCopilot/.venv/lib/python3.12/site-packages/datasets/download/streaming_download_manager.py:784: FutureWarning: The 'verbose' keyword in pd.read_csv is deprecated and will be removed in a future version.\n",
      "  return pd.read_csv(xopen(filepath_or_buffer, \"rb\", download_config=download_config), **kwargs)\n",
      "Generating train split: 3474 examples [00:00, 310179.92 examples/s]\n"
     ]
    }
   ],
   "source": [
    "ds = d.load_dataset('csv', data_files='./dataset/latex.csv')"
   ]
  },
  {
   "cell_type": "code",
   "execution_count": 36,
   "metadata": {},
   "outputs": [
    {
     "data": {
      "text/plain": [
       "{'instruction': 'You are a latex autocomplete model. You will be given a setence from a proof and you need to finish the sentence. Give back the setence in latex markup.',\n",
       " 'input': ' So by the inductive hypothesis with $k = \\\\ell - 1$, we h',\n",
       " 'output': 'ave     $$\\\\nu_p(n_1\\\\cdots n_{\\\\ell-1}) = \\\\nu_p(n_1) + \\\\cdots + \\\\nu_p(n_{\\\\ell-1})'}"
      ]
     },
     "execution_count": 36,
     "metadata": {},
     "output_type": "execute_result"
    }
   ],
   "source": []
  },
  {
   "cell_type": "code",
   "execution_count": null,
   "metadata": {},
   "outputs": [],
   "source": []
  }
 ],
 "metadata": {
  "kernelspec": {
   "display_name": ".venv",
   "language": "python",
   "name": "python3"
  },
  "language_info": {
   "codemirror_mode": {
    "name": "ipython",
    "version": 3
   },
   "file_extension": ".py",
   "mimetype": "text/x-python",
   "name": "python",
   "nbconvert_exporter": "python",
   "pygments_lexer": "ipython3",
   "version": "3.12.4"
  }
 },
 "nbformat": 4,
 "nbformat_minor": 2
}
